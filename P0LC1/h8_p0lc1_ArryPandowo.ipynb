{
 "cells": [
  {
   "cell_type": "markdown",
   "metadata": {},
   "source": [
    "# Perkenalan"
   ]
  },
  {
   "cell_type": "markdown",
   "metadata": {},
   "source": [
    "Nama : Arry Pandowo\r\n",
    "Batch 001 Full-Stack Data Science Hacktiv8 Live Code Week 1"
   ]
  },
  {
   "cell_type": "markdown",
   "metadata": {},
   "source": [
    "# Import Library"
   ]
  },
  {
   "cell_type": "code",
   "execution_count": 114,
   "metadata": {},
   "outputs": [],
   "source": [
    "import pandas as pd\r\n",
    "import numpy as np"
   ]
  },
  {
   "cell_type": "markdown",
   "metadata": {},
   "source": [
    "import semua library yang dibutuhkan\r\n"
   ]
  },
  {
   "cell_type": "markdown",
   "metadata": {},
   "source": [
    "# Data Loading & Cleaning"
   ]
  },
  {
   "cell_type": "code",
   "execution_count": 115,
   "metadata": {},
   "outputs": [],
   "source": [
    "df = pd.read_excel(\"NMC1-9.xlsx\")"
   ]
  },
  {
   "cell_type": "markdown",
   "metadata": {},
   "source": [
    "Time & cap tidak dibutuhkan didalam perhitungan ini"
   ]
  },
  {
   "cell_type": "code",
   "execution_count": 116,
   "metadata": {},
   "outputs": [
    {
     "data": {
      "text/html": [
       "<div>\n",
       "<style scoped>\n",
       "    .dataframe tbody tr th:only-of-type {\n",
       "        vertical-align: middle;\n",
       "    }\n",
       "\n",
       "    .dataframe tbody tr th {\n",
       "        vertical-align: top;\n",
       "    }\n",
       "\n",
       "    .dataframe thead th {\n",
       "        text-align: right;\n",
       "    }\n",
       "</style>\n",
       "<table border=\"1\" class=\"dataframe\">\n",
       "  <thead>\n",
       "    <tr style=\"text-align: right;\">\n",
       "      <th></th>\n",
       "      <th>V_m</th>\n",
       "      <th>Current (A)</th>\n",
       "      <th>Cycle</th>\n",
       "    </tr>\n",
       "  </thead>\n",
       "  <tbody>\n",
       "    <tr>\n",
       "      <th>0</th>\n",
       "      <td>4.098</td>\n",
       "      <td>0.997</td>\n",
       "      <td>1</td>\n",
       "    </tr>\n",
       "    <tr>\n",
       "      <th>1</th>\n",
       "      <td>4.096</td>\n",
       "      <td>0.998</td>\n",
       "      <td>1</td>\n",
       "    </tr>\n",
       "    <tr>\n",
       "      <th>2</th>\n",
       "      <td>4.094</td>\n",
       "      <td>0.999</td>\n",
       "      <td>1</td>\n",
       "    </tr>\n",
       "    <tr>\n",
       "      <th>3</th>\n",
       "      <td>4.093</td>\n",
       "      <td>0.998</td>\n",
       "      <td>1</td>\n",
       "    </tr>\n",
       "    <tr>\n",
       "      <th>4</th>\n",
       "      <td>4.092</td>\n",
       "      <td>0.999</td>\n",
       "      <td>1</td>\n",
       "    </tr>\n",
       "    <tr>\n",
       "      <th>...</th>\n",
       "      <td>...</td>\n",
       "      <td>...</td>\n",
       "      <td>...</td>\n",
       "    </tr>\n",
       "    <tr>\n",
       "      <th>90977</th>\n",
       "      <td>2.506</td>\n",
       "      <td>1.002</td>\n",
       "      <td>9</td>\n",
       "    </tr>\n",
       "    <tr>\n",
       "      <th>90978</th>\n",
       "      <td>2.504</td>\n",
       "      <td>1.002</td>\n",
       "      <td>9</td>\n",
       "    </tr>\n",
       "    <tr>\n",
       "      <th>90979</th>\n",
       "      <td>2.502</td>\n",
       "      <td>1.002</td>\n",
       "      <td>9</td>\n",
       "    </tr>\n",
       "    <tr>\n",
       "      <th>90980</th>\n",
       "      <td>2.500</td>\n",
       "      <td>1.002</td>\n",
       "      <td>9</td>\n",
       "    </tr>\n",
       "    <tr>\n",
       "      <th>90981</th>\n",
       "      <td>2.497</td>\n",
       "      <td>1.002</td>\n",
       "      <td>9</td>\n",
       "    </tr>\n",
       "  </tbody>\n",
       "</table>\n",
       "<p>90982 rows × 3 columns</p>\n",
       "</div>"
      ],
      "text/plain": [
       "         V_m  Current (A)  Cycle\n",
       "0      4.098        0.997      1\n",
       "1      4.096        0.998      1\n",
       "2      4.094        0.999      1\n",
       "3      4.093        0.998      1\n",
       "4      4.092        0.999      1\n",
       "...      ...          ...    ...\n",
       "90977  2.506        1.002      9\n",
       "90978  2.504        1.002      9\n",
       "90979  2.502        1.002      9\n",
       "90980  2.500        1.002      9\n",
       "90981  2.497        1.002      9\n",
       "\n",
       "[90982 rows x 3 columns]"
      ]
     },
     "execution_count": 116,
     "metadata": {},
     "output_type": "execute_result"
    }
   ],
   "source": [
    "df = df.drop(columns=[\"time(s)\",\"Cap\"])\r\n",
    "df"
   ]
  },
  {
   "cell_type": "markdown",
   "metadata": {},
   "source": [
    "## Problem\r\n",
    "\r\n",
    "Hitung **hambatan baterai** tiap waktunya untuk **cycle ganjil** dan daya baterai tiap waktunya **kapasitas baterai** untuk **cycle genap** dari dataset dengan ketentuan sebagai berikut:"
   ]
  },
  {
   "cell_type": "markdown",
   "metadata": {},
   "source": [
    "## Data Adjustment"
   ]
  },
  {
   "cell_type": "markdown",
   "metadata": {},
   "source": [
    "untuk memudahkan pandas chaining maka nama table dari \"current (A)\" diubah menjadi \"current\""
   ]
  },
  {
   "cell_type": "code",
   "execution_count": 117,
   "metadata": {},
   "outputs": [],
   "source": [
    "df = df.rename(columns={\"Current (A)\" : \"current\"})"
   ]
  },
  {
   "cell_type": "markdown",
   "metadata": {},
   "source": [
    "## Data Eksplorasi"
   ]
  },
  {
   "cell_type": "markdown",
   "metadata": {},
   "source": [
    "Rumus perhitungan hambatan dan daya"
   ]
  },
  {
   "cell_type": "code",
   "execution_count": 118,
   "metadata": {},
   "outputs": [],
   "source": [
    "def rumusHambatan(cycleGenap):\r\n",
    "    for cycleGenap in df.Cycle:\r\n",
    "        if cycleGenap % 2 == 0:\r\n",
    "            return (df.V_m * df.current) \r\n",
    "\r\n",
    "def rumusDaya(cycleGanjil):    \r\n",
    "    for cycleGanjil in df.Cycle:\r\n",
    "        if cycleGanjil % 2 != 0:\r\n",
    "             return (df.V_m / df.current)"
   ]
  },
  {
   "cell_type": "markdown",
   "metadata": {},
   "source": [
    "* Rumus hambatan : jika modulus 2 = 0 maka genap kemudian dilakukan perhitungan rumus tersebut, hasil return ke caller rumus)\r\n",
    "* Rumus Daya : berlaku hal yang sama namun dilakukan untuk ganjil dengan rumus yang berbeda"
   ]
  },
  {
   "cell_type": "code",
   "execution_count": 119,
   "metadata": {},
   "outputs": [
    {
     "data": {
      "text/html": [
       "<div>\n",
       "<style scoped>\n",
       "    .dataframe tbody tr th:only-of-type {\n",
       "        vertical-align: middle;\n",
       "    }\n",
       "\n",
       "    .dataframe tbody tr th {\n",
       "        vertical-align: top;\n",
       "    }\n",
       "\n",
       "    .dataframe thead th {\n",
       "        text-align: right;\n",
       "    }\n",
       "</style>\n",
       "<table border=\"1\" class=\"dataframe\">\n",
       "  <thead>\n",
       "    <tr style=\"text-align: right;\">\n",
       "      <th></th>\n",
       "      <th>V_m</th>\n",
       "      <th>current</th>\n",
       "      <th>Cycle</th>\n",
       "    </tr>\n",
       "  </thead>\n",
       "  <tbody>\n",
       "    <tr>\n",
       "      <th>0</th>\n",
       "      <td>4.110331</td>\n",
       "      <td>4.110331</td>\n",
       "      <td>4.110331</td>\n",
       "    </tr>\n",
       "    <tr>\n",
       "      <th>1</th>\n",
       "      <td>4.104208</td>\n",
       "      <td>4.104208</td>\n",
       "      <td>4.104208</td>\n",
       "    </tr>\n",
       "    <tr>\n",
       "      <th>2</th>\n",
       "      <td>4.098098</td>\n",
       "      <td>4.098098</td>\n",
       "      <td>4.098098</td>\n",
       "    </tr>\n",
       "    <tr>\n",
       "      <th>3</th>\n",
       "      <td>4.101202</td>\n",
       "      <td>4.101202</td>\n",
       "      <td>4.101202</td>\n",
       "    </tr>\n",
       "    <tr>\n",
       "      <th>4</th>\n",
       "      <td>4.096096</td>\n",
       "      <td>4.096096</td>\n",
       "      <td>4.096096</td>\n",
       "    </tr>\n",
       "    <tr>\n",
       "      <th>...</th>\n",
       "      <td>...</td>\n",
       "      <td>...</td>\n",
       "      <td>...</td>\n",
       "    </tr>\n",
       "    <tr>\n",
       "      <th>90977</th>\n",
       "      <td>2.500998</td>\n",
       "      <td>2.500998</td>\n",
       "      <td>2.500998</td>\n",
       "    </tr>\n",
       "    <tr>\n",
       "      <th>90978</th>\n",
       "      <td>2.499002</td>\n",
       "      <td>2.499002</td>\n",
       "      <td>2.499002</td>\n",
       "    </tr>\n",
       "    <tr>\n",
       "      <th>90979</th>\n",
       "      <td>2.497006</td>\n",
       "      <td>2.497006</td>\n",
       "      <td>2.497006</td>\n",
       "    </tr>\n",
       "    <tr>\n",
       "      <th>90980</th>\n",
       "      <td>2.495010</td>\n",
       "      <td>2.495010</td>\n",
       "      <td>2.495010</td>\n",
       "    </tr>\n",
       "    <tr>\n",
       "      <th>90981</th>\n",
       "      <td>2.492016</td>\n",
       "      <td>2.492016</td>\n",
       "      <td>2.492016</td>\n",
       "    </tr>\n",
       "  </tbody>\n",
       "</table>\n",
       "<p>90982 rows × 3 columns</p>\n",
       "</div>"
      ],
      "text/plain": [
       "            V_m   current     Cycle\n",
       "0      4.110331  4.110331  4.110331\n",
       "1      4.104208  4.104208  4.104208\n",
       "2      4.098098  4.098098  4.098098\n",
       "3      4.101202  4.101202  4.101202\n",
       "4      4.096096  4.096096  4.096096\n",
       "...         ...       ...       ...\n",
       "90977  2.500998  2.500998  2.500998\n",
       "90978  2.499002  2.499002  2.499002\n",
       "90979  2.497006  2.497006  2.497006\n",
       "90980  2.495010  2.495010  2.495010\n",
       "90981  2.492016  2.492016  2.492016\n",
       "\n",
       "[90982 rows x 3 columns]"
      ]
     },
     "execution_count": 119,
     "metadata": {},
     "output_type": "execute_result"
    }
   ],
   "source": [
    "df.apply(rumusDaya)"
   ]
  },
  {
   "cell_type": "markdown",
   "metadata": {},
   "source": [
    "hasil Daya : "
   ]
  },
  {
   "cell_type": "code",
   "execution_count": 120,
   "metadata": {},
   "outputs": [
    {
     "data": {
      "text/html": [
       "<div>\n",
       "<style scoped>\n",
       "    .dataframe tbody tr th:only-of-type {\n",
       "        vertical-align: middle;\n",
       "    }\n",
       "\n",
       "    .dataframe tbody tr th {\n",
       "        vertical-align: top;\n",
       "    }\n",
       "\n",
       "    .dataframe thead th {\n",
       "        text-align: right;\n",
       "    }\n",
       "</style>\n",
       "<table border=\"1\" class=\"dataframe\">\n",
       "  <thead>\n",
       "    <tr style=\"text-align: right;\">\n",
       "      <th></th>\n",
       "      <th>V_m</th>\n",
       "      <th>current</th>\n",
       "      <th>Cycle</th>\n",
       "    </tr>\n",
       "  </thead>\n",
       "  <tbody>\n",
       "    <tr>\n",
       "      <th>0</th>\n",
       "      <td>4.085706</td>\n",
       "      <td>4.085706</td>\n",
       "      <td>4.085706</td>\n",
       "    </tr>\n",
       "    <tr>\n",
       "      <th>1</th>\n",
       "      <td>4.087808</td>\n",
       "      <td>4.087808</td>\n",
       "      <td>4.087808</td>\n",
       "    </tr>\n",
       "    <tr>\n",
       "      <th>2</th>\n",
       "      <td>4.089906</td>\n",
       "      <td>4.089906</td>\n",
       "      <td>4.089906</td>\n",
       "    </tr>\n",
       "    <tr>\n",
       "      <th>3</th>\n",
       "      <td>4.084814</td>\n",
       "      <td>4.084814</td>\n",
       "      <td>4.084814</td>\n",
       "    </tr>\n",
       "    <tr>\n",
       "      <th>4</th>\n",
       "      <td>4.087908</td>\n",
       "      <td>4.087908</td>\n",
       "      <td>4.087908</td>\n",
       "    </tr>\n",
       "    <tr>\n",
       "      <th>...</th>\n",
       "      <td>...</td>\n",
       "      <td>...</td>\n",
       "      <td>...</td>\n",
       "    </tr>\n",
       "    <tr>\n",
       "      <th>90977</th>\n",
       "      <td>2.511012</td>\n",
       "      <td>2.511012</td>\n",
       "      <td>2.511012</td>\n",
       "    </tr>\n",
       "    <tr>\n",
       "      <th>90978</th>\n",
       "      <td>2.509008</td>\n",
       "      <td>2.509008</td>\n",
       "      <td>2.509008</td>\n",
       "    </tr>\n",
       "    <tr>\n",
       "      <th>90979</th>\n",
       "      <td>2.507004</td>\n",
       "      <td>2.507004</td>\n",
       "      <td>2.507004</td>\n",
       "    </tr>\n",
       "    <tr>\n",
       "      <th>90980</th>\n",
       "      <td>2.505000</td>\n",
       "      <td>2.505000</td>\n",
       "      <td>2.505000</td>\n",
       "    </tr>\n",
       "    <tr>\n",
       "      <th>90981</th>\n",
       "      <td>2.501994</td>\n",
       "      <td>2.501994</td>\n",
       "      <td>2.501994</td>\n",
       "    </tr>\n",
       "  </tbody>\n",
       "</table>\n",
       "<p>90982 rows × 3 columns</p>\n",
       "</div>"
      ],
      "text/plain": [
       "            V_m   current     Cycle\n",
       "0      4.085706  4.085706  4.085706\n",
       "1      4.087808  4.087808  4.087808\n",
       "2      4.089906  4.089906  4.089906\n",
       "3      4.084814  4.084814  4.084814\n",
       "4      4.087908  4.087908  4.087908\n",
       "...         ...       ...       ...\n",
       "90977  2.511012  2.511012  2.511012\n",
       "90978  2.509008  2.509008  2.509008\n",
       "90979  2.507004  2.507004  2.507004\n",
       "90980  2.505000  2.505000  2.505000\n",
       "90981  2.501994  2.501994  2.501994\n",
       "\n",
       "[90982 rows x 3 columns]"
      ]
     },
     "execution_count": 120,
     "metadata": {},
     "output_type": "execute_result"
    }
   ],
   "source": [
    "df.apply(rumusHambatan)\r\n"
   ]
  },
  {
   "cell_type": "markdown",
   "metadata": {},
   "source": [
    "# Answer"
   ]
  },
  {
   "cell_type": "code",
   "execution_count": null,
   "metadata": {},
   "outputs": [],
   "source": []
  }
 ],
 "metadata": {
  "interpreter": {
   "hash": "7b0a3cb1454f5aad3a6e8cec18c0f641c26330b09d7141075d1534be40c6ccf5"
  },
  "kernelspec": {
   "display_name": "Python 3.8.8 64-bit ('base': conda)",
   "name": "python3"
  },
  "language_info": {
   "name": "python",
   "version": ""
  }
 },
 "nbformat": 4,
 "nbformat_minor": 5
}