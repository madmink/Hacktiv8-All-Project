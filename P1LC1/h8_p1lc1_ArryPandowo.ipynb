{
 "cells": [
  {
   "cell_type": "markdown",
   "source": [
    "# Perkenalan "
   ],
   "metadata": {}
  },
  {
   "cell_type": "markdown",
   "source": [
    "Arry Pandowo Full Stack Data Science Batch 1 dibuat untuk Live Code Challange "
   ],
   "metadata": {}
  },
  {
   "cell_type": "markdown",
   "source": [
    "# Library"
   ],
   "metadata": {}
  },
  {
   "cell_type": "code",
   "execution_count": 1,
   "source": [
    "import pandas as pd\r\n",
    "import numpy as np\r\n",
    "import matplotlib.pyplot as plt\r\n",
    "import seaborn as sns\r\n",
    "import sklearn as sk\r\n",
    "from sklearn.model_selection import train_test_split\r\n",
    "from sklearn.linear_model import LinearRegression\r\n",
    "from sklearn.preprocessing import StandardScaler"
   ],
   "outputs": [],
   "metadata": {}
  },
  {
   "cell_type": "markdown",
   "source": [
    "Berikut library yang digunakan"
   ],
   "metadata": {}
  },
  {
   "cell_type": "markdown",
   "source": [
    "# Data Loading"
   ],
   "metadata": {}
  },
  {
   "cell_type": "code",
   "execution_count": 2,
   "source": [
    "df = pd.read_csv(\"insurance.csv\")\r\n",
    "df"
   ],
   "outputs": [
    {
     "output_type": "execute_result",
     "data": {
      "text/plain": [
       "      age     sex     bmi  children smoker     region      charges\n",
       "0      19  female  27.900         0    yes  southwest  16884.92400\n",
       "1      18    male  33.770         1     no  southeast   1725.55230\n",
       "2      28    male  33.000         3     no  southeast   4449.46200\n",
       "3      33    male  22.705         0     no  northwest  21984.47061\n",
       "4      32    male  28.880         0     no  northwest   3866.85520\n",
       "...   ...     ...     ...       ...    ...        ...          ...\n",
       "1333   50    male  30.970         3     no  northwest  10600.54830\n",
       "1334   18  female  31.920         0     no  northeast   2205.98080\n",
       "1335   18  female  36.850         0     no  southeast   1629.83350\n",
       "1336   21  female  25.800         0     no  southwest   2007.94500\n",
       "1337   61  female  29.070         0    yes  northwest  29141.36030\n",
       "\n",
       "[1338 rows x 7 columns]"
      ],
      "text/html": [
       "<div>\n",
       "<style scoped>\n",
       "    .dataframe tbody tr th:only-of-type {\n",
       "        vertical-align: middle;\n",
       "    }\n",
       "\n",
       "    .dataframe tbody tr th {\n",
       "        vertical-align: top;\n",
       "    }\n",
       "\n",
       "    .dataframe thead th {\n",
       "        text-align: right;\n",
       "    }\n",
       "</style>\n",
       "<table border=\"1\" class=\"dataframe\">\n",
       "  <thead>\n",
       "    <tr style=\"text-align: right;\">\n",
       "      <th></th>\n",
       "      <th>age</th>\n",
       "      <th>sex</th>\n",
       "      <th>bmi</th>\n",
       "      <th>children</th>\n",
       "      <th>smoker</th>\n",
       "      <th>region</th>\n",
       "      <th>charges</th>\n",
       "    </tr>\n",
       "  </thead>\n",
       "  <tbody>\n",
       "    <tr>\n",
       "      <th>0</th>\n",
       "      <td>19</td>\n",
       "      <td>female</td>\n",
       "      <td>27.900</td>\n",
       "      <td>0</td>\n",
       "      <td>yes</td>\n",
       "      <td>southwest</td>\n",
       "      <td>16884.92400</td>\n",
       "    </tr>\n",
       "    <tr>\n",
       "      <th>1</th>\n",
       "      <td>18</td>\n",
       "      <td>male</td>\n",
       "      <td>33.770</td>\n",
       "      <td>1</td>\n",
       "      <td>no</td>\n",
       "      <td>southeast</td>\n",
       "      <td>1725.55230</td>\n",
       "    </tr>\n",
       "    <tr>\n",
       "      <th>2</th>\n",
       "      <td>28</td>\n",
       "      <td>male</td>\n",
       "      <td>33.000</td>\n",
       "      <td>3</td>\n",
       "      <td>no</td>\n",
       "      <td>southeast</td>\n",
       "      <td>4449.46200</td>\n",
       "    </tr>\n",
       "    <tr>\n",
       "      <th>3</th>\n",
       "      <td>33</td>\n",
       "      <td>male</td>\n",
       "      <td>22.705</td>\n",
       "      <td>0</td>\n",
       "      <td>no</td>\n",
       "      <td>northwest</td>\n",
       "      <td>21984.47061</td>\n",
       "    </tr>\n",
       "    <tr>\n",
       "      <th>4</th>\n",
       "      <td>32</td>\n",
       "      <td>male</td>\n",
       "      <td>28.880</td>\n",
       "      <td>0</td>\n",
       "      <td>no</td>\n",
       "      <td>northwest</td>\n",
       "      <td>3866.85520</td>\n",
       "    </tr>\n",
       "    <tr>\n",
       "      <th>...</th>\n",
       "      <td>...</td>\n",
       "      <td>...</td>\n",
       "      <td>...</td>\n",
       "      <td>...</td>\n",
       "      <td>...</td>\n",
       "      <td>...</td>\n",
       "      <td>...</td>\n",
       "    </tr>\n",
       "    <tr>\n",
       "      <th>1333</th>\n",
       "      <td>50</td>\n",
       "      <td>male</td>\n",
       "      <td>30.970</td>\n",
       "      <td>3</td>\n",
       "      <td>no</td>\n",
       "      <td>northwest</td>\n",
       "      <td>10600.54830</td>\n",
       "    </tr>\n",
       "    <tr>\n",
       "      <th>1334</th>\n",
       "      <td>18</td>\n",
       "      <td>female</td>\n",
       "      <td>31.920</td>\n",
       "      <td>0</td>\n",
       "      <td>no</td>\n",
       "      <td>northeast</td>\n",
       "      <td>2205.98080</td>\n",
       "    </tr>\n",
       "    <tr>\n",
       "      <th>1335</th>\n",
       "      <td>18</td>\n",
       "      <td>female</td>\n",
       "      <td>36.850</td>\n",
       "      <td>0</td>\n",
       "      <td>no</td>\n",
       "      <td>southeast</td>\n",
       "      <td>1629.83350</td>\n",
       "    </tr>\n",
       "    <tr>\n",
       "      <th>1336</th>\n",
       "      <td>21</td>\n",
       "      <td>female</td>\n",
       "      <td>25.800</td>\n",
       "      <td>0</td>\n",
       "      <td>no</td>\n",
       "      <td>southwest</td>\n",
       "      <td>2007.94500</td>\n",
       "    </tr>\n",
       "    <tr>\n",
       "      <th>1337</th>\n",
       "      <td>61</td>\n",
       "      <td>female</td>\n",
       "      <td>29.070</td>\n",
       "      <td>0</td>\n",
       "      <td>yes</td>\n",
       "      <td>northwest</td>\n",
       "      <td>29141.36030</td>\n",
       "    </tr>\n",
       "  </tbody>\n",
       "</table>\n",
       "<p>1338 rows × 7 columns</p>\n",
       "</div>"
      ]
     },
     "metadata": {},
     "execution_count": 2
    }
   ],
   "metadata": {}
  },
  {
   "cell_type": "code",
   "execution_count": 3,
   "source": [
    "df.info()"
   ],
   "outputs": [
    {
     "output_type": "stream",
     "name": "stdout",
     "text": [
      "<class 'pandas.core.frame.DataFrame'>\n",
      "RangeIndex: 1338 entries, 0 to 1337\n",
      "Data columns (total 7 columns):\n",
      " #   Column    Non-Null Count  Dtype  \n",
      "---  ------    --------------  -----  \n",
      " 0   age       1338 non-null   int64  \n",
      " 1   sex       1338 non-null   object \n",
      " 2   bmi       1338 non-null   float64\n",
      " 3   children  1338 non-null   int64  \n",
      " 4   smoker    1338 non-null   object \n",
      " 5   region    1338 non-null   object \n",
      " 6   charges   1338 non-null   float64\n",
      "dtypes: float64(2), int64(2), object(3)\n",
      "memory usage: 73.3+ KB\n"
     ]
    }
   ],
   "metadata": {}
  },
  {
   "cell_type": "markdown",
   "source": [
    "# Eksplorasi Data & Preprocessing"
   ],
   "metadata": {}
  },
  {
   "cell_type": "markdown",
   "source": [
    "## Melihat Korelasi Data"
   ],
   "metadata": {}
  },
  {
   "cell_type": "code",
   "execution_count": 4,
   "source": [
    "correlations = df.corr()\r\n",
    "sns.heatmap(correlations, annot=True)"
   ],
   "outputs": [
    {
     "output_type": "execute_result",
     "data": {
      "text/plain": [
       "<AxesSubplot:>"
      ]
     },
     "metadata": {},
     "execution_count": 4
    },
    {
     "output_type": "display_data",
     "data": {
      "text/plain": [
       "<Figure size 432x288 with 2 Axes>"
      ],
      "image/png": "[encoded data removed]"
     },
     "metadata": {
      "needs_background": "light"
     }
    }
   ],
   "metadata": {}
  },
  {
   "cell_type": "markdown",
   "source": [
    "## Transformasi data menjadi Numerik"
   ],
   "metadata": {}
  },
  {
   "cell_type": "code",
   "execution_count": 5,
   "source": [
    "df[\"sex\"].replace({\"female\":1 , \"male\":0}, inplace=True)\r\n",
    "df[\"smoker\"].replace({\"yes\":1 , \"no\":0}, inplace = True)\r\n",
    "df[\"region\"].replace({\"southwest\":0 , \"southeast\":1, \"northwest\":2, \"northeast\":3}, inplace = True)"
   ],
   "outputs": [],
   "metadata": {}
  },
  {
   "cell_type": "markdown",
   "source": [
    "## Pendefinisian Feature dan Target"
   ],
   "metadata": {}
  },
  {
   "cell_type": "code",
   "execution_count": 6,
   "source": [
    "X = df[[\"age\", \"sex\",\"bmi\", \"children\", \"smoker\", \"region\"]]\r\n",
    "Y = df.charges"
   ],
   "outputs": [],
   "metadata": {}
  },
  {
   "cell_type": "markdown",
   "source": [
    "## Multicolinearity Test"
   ],
   "metadata": {}
  },
  {
   "cell_type": "code",
   "execution_count": 7,
   "source": [
    "print((np.abs(X.corr())>0.7).agg('sum').sum()-len(X.columns))\r\n",
    "X.corr()"
   ],
   "outputs": [
    {
     "output_type": "stream",
     "name": "stdout",
     "text": [
      "0\n"
     ]
    },
    {
     "output_type": "execute_result",
     "data": {
      "text/plain": [
       "               age       sex       bmi  children    smoker    region\n",
       "age       1.000000  0.020856  0.109272  0.042469 -0.025019 -0.002127\n",
       "sex       0.020856  1.000000 -0.046371 -0.017163 -0.076185  0.004588\n",
       "bmi       0.109272 -0.046371  1.000000  0.012759  0.003750 -0.157566\n",
       "children  0.042469 -0.017163  0.012759  1.000000  0.007673 -0.016569\n",
       "smoker   -0.025019 -0.076185  0.003750  0.007673  1.000000  0.002181\n",
       "region   -0.002127  0.004588 -0.157566 -0.016569  0.002181  1.000000"
      ],
      "text/html": [
       "<div>\n",
       "<style scoped>\n",
       "    .dataframe tbody tr th:only-of-type {\n",
       "        vertical-align: middle;\n",
       "    }\n",
       "\n",
       "    .dataframe tbody tr th {\n",
       "        vertical-align: top;\n",
       "    }\n",
       "\n",
       "    .dataframe thead th {\n",
       "        text-align: right;\n",
       "    }\n",
       "</style>\n",
       "<table border=\"1\" class=\"dataframe\">\n",
       "  <thead>\n",
       "    <tr style=\"text-align: right;\">\n",
       "      <th></th>\n",
       "      <th>age</th>\n",
       "      <th>sex</th>\n",
       "      <th>bmi</th>\n",
       "      <th>children</th>\n",
       "      <th>smoker</th>\n",
       "      <th>region</th>\n",
       "    </tr>\n",
       "  </thead>\n",
       "  <tbody>\n",
       "    <tr>\n",
       "      <th>age</th>\n",
       "      <td>1.000000</td>\n",
       "      <td>0.020856</td>\n",
       "      <td>0.109272</td>\n",
       "      <td>0.042469</td>\n",
       "      <td>-0.025019</td>\n",
       "      <td>-0.002127</td>\n",
       "    </tr>\n",
       "    <tr>\n",
       "      <th>sex</th>\n",
       "      <td>0.020856</td>\n",
       "      <td>1.000000</td>\n",
       "      <td>-0.046371</td>\n",
       "      <td>-0.017163</td>\n",
       "      <td>-0.076185</td>\n",
       "      <td>0.004588</td>\n",
       "    </tr>\n",
       "    <tr>\n",
       "      <th>bmi</th>\n",
       "      <td>0.109272</td>\n",
       "      <td>-0.046371</td>\n",
       "      <td>1.000000</td>\n",
       "      <td>0.012759</td>\n",
       "      <td>0.003750</td>\n",
       "      <td>-0.157566</td>\n",
       "    </tr>\n",
       "    <tr>\n",
       "      <th>children</th>\n",
       "      <td>0.042469</td>\n",
       "      <td>-0.017163</td>\n",
       "      <td>0.012759</td>\n",
       "      <td>1.000000</td>\n",
       "      <td>0.007673</td>\n",
       "      <td>-0.016569</td>\n",
       "    </tr>\n",
       "    <tr>\n",
       "      <th>smoker</th>\n",
       "      <td>-0.025019</td>\n",
       "      <td>-0.076185</td>\n",
       "      <td>0.003750</td>\n",
       "      <td>0.007673</td>\n",
       "      <td>1.000000</td>\n",
       "      <td>0.002181</td>\n",
       "    </tr>\n",
       "    <tr>\n",
       "      <th>region</th>\n",
       "      <td>-0.002127</td>\n",
       "      <td>0.004588</td>\n",
       "      <td>-0.157566</td>\n",
       "      <td>-0.016569</td>\n",
       "      <td>0.002181</td>\n",
       "      <td>1.000000</td>\n",
       "    </tr>\n",
       "  </tbody>\n",
       "</table>\n",
       "</div>"
      ]
     },
     "metadata": {},
     "execution_count": 7
    }
   ],
   "metadata": {}
  },
  {
   "cell_type": "markdown",
   "source": [
    "Data Aman, tidak memiliki korelasi satu sama lain"
   ],
   "metadata": {}
  },
  {
   "cell_type": "markdown",
   "source": [
    "## Standard Scaller"
   ],
   "metadata": {}
  },
  {
   "cell_type": "code",
   "execution_count": 8,
   "source": [
    "scaler = StandardScaler()\r\n",
    "scaler.fit(X)\r\n",
    "X = scaler.transform(X)"
   ],
   "outputs": [],
   "metadata": {}
  },
  {
   "cell_type": "markdown",
   "source": [
    "## Visualisasi sebaran data"
   ],
   "metadata": {}
  },
  {
   "cell_type": "code",
   "execution_count": 9,
   "source": [
    "sns.histplot(df, x = 'smoker', hue=\"smoker\")"
   ],
   "outputs": [
    {
     "output_type": "execute_result",
     "data": {
      "text/plain": [
       "<AxesSubplot:xlabel='smoker', ylabel='Count'>"
      ]
     },
     "metadata": {},
     "execution_count": 9
    },
    {
     "output_type": "display_data",
     "data": {
      "text/plain": [
       "<Figure size 432x288 with 1 Axes>"
      ],
      "image/png": "[encoded data removed]"
     },
     "metadata": {
      "needs_background": "light"
     }
    }
   ],
   "metadata": {}
  },
  {
   "cell_type": "markdown",
   "source": [
    "## Splitting Data"
   ],
   "metadata": {}
  },
  {
   "cell_type": "code",
   "execution_count": 10,
   "source": [
    "x_train, x_test, y_train, y_test = train_test_split(X, Y)"
   ],
   "outputs": [],
   "metadata": {}
  },
  {
   "cell_type": "markdown",
   "source": [
    "# Model"
   ],
   "metadata": {}
  },
  {
   "cell_type": "markdown",
   "source": [
    "## Pendefinisian Model"
   ],
   "metadata": {}
  },
  {
   "cell_type": "code",
   "execution_count": 11,
   "source": [
    "lr = LinearRegression()"
   ],
   "outputs": [],
   "metadata": {}
  },
  {
   "cell_type": "markdown",
   "source": [
    "## Ilustrasi Model"
   ],
   "metadata": {}
  },
  {
   "cell_type": "code",
   "execution_count": 12,
   "source": [
    "lr.fit(x_train, y_train)\r\n",
    "# Print the intercept and the slope of the model\r\n",
    "print(lr.intercept_) \r\n",
    "print(lr.coef_) \r\n",
    "# Show line of best fit\r\n",
    "plt.plot(x_train, lr.coef_*x_train + lr.intercept_, '-r', label='Intercept: -39,163 \\nSlope: 279.4')"
   ],
   "outputs": [
    {
     "output_type": "stream",
     "name": "stdout",
     "text": [
      "13352.859567760464\n",
      "[3643.66901673  179.42902618 2058.47125661  703.58440484 9513.26399328\n",
      "  514.41853034]\n"
     ]
    },
    {
     "output_type": "execute_result",
     "data": {
      "text/plain": [
       "[<matplotlib.lines.Line2D at 0x1af001f9ee0>,\n",
       " <matplotlib.lines.Line2D at 0x1af001f9f10>,\n",
       " <matplotlib.lines.Line2D at 0x1af00206070>,\n",
       " <matplotlib.lines.Line2D at 0x1af00206160>,\n",
       " <matplotlib.lines.Line2D at 0x1af00206220>,\n",
       " <matplotlib.lines.Line2D at 0x1af002062e0>]"
      ]
     },
     "metadata": {},
     "execution_count": 12
    },
    {
     "output_type": "display_data",
     "data": {
      "text/plain": [
       "<Figure size 432x288 with 1 Axes>"
      ],
      "image/png": "[encoded data removed]"
     },
     "metadata": {
      "needs_background": "light"
     }
    }
   ],
   "metadata": {}
  },
  {
   "cell_type": "code",
   "execution_count": 13,
   "source": [
    "lr"
   ],
   "outputs": [
    {
     "output_type": "execute_result",
     "data": {
      "text/plain": [
       "LinearRegression()"
      ]
     },
     "metadata": {},
     "execution_count": 13
    }
   ],
   "metadata": {}
  },
  {
   "cell_type": "markdown",
   "source": [
    "# Evaluation"
   ],
   "metadata": {}
  },
  {
   "cell_type": "markdown",
   "source": [
    "## Time To Run Model"
   ],
   "metadata": {}
  },
  {
   "cell_type": "code",
   "execution_count": 14,
   "source": [
    " %time lr.fit(x_train, y_train)"
   ],
   "outputs": [
    {
     "output_type": "stream",
     "name": "stdout",
     "text": [
      "Wall time: 975 µs\n"
     ]
    },
    {
     "output_type": "execute_result",
     "data": {
      "text/plain": [
       "LinearRegression()"
      ]
     },
     "metadata": {},
     "execution_count": 14
    }
   ],
   "metadata": {}
  },
  {
   "cell_type": "markdown",
   "source": [
    "1.93 ms untuk melakukan running model"
   ],
   "metadata": {}
  },
  {
   "cell_type": "markdown",
   "source": [
    "## Model Inference"
   ],
   "metadata": {}
  },
  {
   "cell_type": "markdown",
   "source": [
    "### Using Data Test"
   ],
   "metadata": {}
  },
  {
   "cell_type": "code",
   "execution_count": 15,
   "source": [
    "y_pred = lr.predict(x_test)"
   ],
   "outputs": [],
   "metadata": {}
  },
  {
   "cell_type": "markdown",
   "source": [
    "### Using New Data"
   ],
   "metadata": {}
  },
  {
   "cell_type": "code",
   "execution_count": 16,
   "source": [
    "data = ({'age': 17, 'sex' : 1, 'bmi':30.770 , 'children':1, 'smoker': 1, 'region' : 1}, {'age': 19, 'sex' : 0,\"bmi\":31.850 , 'children':1, 'smoker': 0, 'region' : 2})\r\n",
    "baru = pd.DataFrame(data)\r\n",
    "lr.predict(baru)"
   ],
   "outputs": [
    {
     "output_type": "execute_result",
     "data": {
      "text/plain": [
       "array([149545.08937275, 149877.30187423])"
      ]
     },
     "metadata": {},
     "execution_count": 16
    }
   ],
   "metadata": {}
  },
  {
   "cell_type": "markdown",
   "source": [
    "## Model Evaluation"
   ],
   "metadata": {}
  },
  {
   "cell_type": "markdown",
   "source": [
    "## RMSE"
   ],
   "metadata": {}
  },
  {
   "cell_type": "code",
   "execution_count": 17,
   "source": [
    "# Import module\r\n",
    "from sklearn.metrics import mean_squared_error\r\n",
    "# We pass the test values and the predicted values\r\n",
    "mse = mean_squared_error(y_test, y_pred)\r\n",
    "# Let's take the square root\r\n",
    "rmse = np.sqrt(mse)\r\n",
    "# Print the result\r\n",
    "print('Root Mean Squared Error: ' + str(rmse))"
   ],
   "outputs": [
    {
     "output_type": "stream",
     "name": "stdout",
     "text": [
      "Root Mean Squared Error: 5639.6032425301055\n"
     ]
    }
   ],
   "metadata": {}
  },
  {
   "cell_type": "markdown",
   "source": [
    "R2-Square"
   ],
   "metadata": {}
  },
  {
   "cell_type": "code",
   "execution_count": 18,
   "source": [
    "# Import r2_score module\r\n",
    "from sklearn.metrics import r2_score\r\n",
    "# Print R2 Score\r\n",
    "print(r2_score(y_test, y_pred))"
   ],
   "outputs": [
    {
     "output_type": "stream",
     "name": "stdout",
     "text": [
      "0.7710039376795367\n"
     ]
    }
   ],
   "metadata": {}
  },
  {
   "cell_type": "markdown",
   "source": [
    "# Kesimpulan"
   ],
   "metadata": {}
  },
  {
   "cell_type": "markdown",
   "source": [
    "* Model yang dibuat memiliki error sebesar 5853 dari angka real yang seharusnya\r\n",
    "* 73% variation dari data berhasil ditebak oleh Model"
   ],
   "metadata": {}
  },
  {
   "cell_type": "markdown",
   "source": [
    "# Soal Kedua"
   ],
   "metadata": {}
  },
  {
   "cell_type": "markdown",
   "source": [
    "# Library"
   ],
   "metadata": {}
  },
  {
   "cell_type": "code",
   "execution_count": 19,
   "source": [
    "import pandas as pd\r\n",
    "import numpy as np\r\n",
    "import matplotlib.pyplot as plt\r\n",
    "import seaborn as sns\r\n",
    "import sklearn as sk\r\n",
    "from sklearn.model_selection import train_test_split\r\n",
    "from sklearn.linear_model import LinearRegression\r\n",
    "from sklearn.preprocessing import StandardScaler"
   ],
   "outputs": [],
   "metadata": {}
  },
  {
   "cell_type": "markdown",
   "source": [
    "# Data Loading"
   ],
   "metadata": {}
  },
  {
   "cell_type": "code",
   "execution_count": 20,
   "source": [
    "df2 = pd.read_csv('Barchi19_Morph-catalog_670k-galaxies.csv')\r\n",
    "df2.head()"
   ],
   "outputs": [
    {
     "output_type": "stream",
     "name": "stderr",
     "text": [
      "C:\\Users\\arryp\\anaconda3\\lib\\site-packages\\IPython\\core\\interactiveshell.py:3165: DtypeWarning: Columns (1) have mixed types.Specify dtype option on import or set low_memory=False.\n",
      "  has_raised = await self.run_ast_nodes(code_ast.body, cell_name,\n"
     ]
    },
    {
     "output_type": "execute_result",
     "data": {
      "text/plain": [
       "             dr7objid               TType          K         C         A  \\\n",
       "0  587722952230175035       3.32451915741  13.578409  0.329970  0.773113   \n",
       "1  587722952230175138       2.18677520752  33.819154  0.385649  0.614753   \n",
       "2  587722952230175145       1.80833292007  16.767047  0.322301  0.861787   \n",
       "3  587722952230175173  2.6344764232599998  23.491833  0.338940  0.777340   \n",
       "4  587722952230240617       3.08055019379  35.769025  0.330124  0.762131   \n",
       "\n",
       "          S        G2         H  Error ML2classes  CNN2classes1stClass  \\\n",
       "0  0.845577  1.741071  0.828695      0          1                    1   \n",
       "1  0.827377  1.604379  0.743405      0          1                    1   \n",
       "2  0.934300  1.511484  0.740404      0          1                    1   \n",
       "3  0.881642  1.539079  0.740161      0          1                    1   \n",
       "4  0.910175  1.102738  0.654903      0          1                    1   \n",
       "\n",
       "   CNN2classes1stClassPerc  CNN2classes2ndClass  CNN2Classes2ndClassPerc  \\\n",
       "0                   100.00                    0                     0.00   \n",
       "1                    99.98                    0                     0.02   \n",
       "2                    99.60                    0                     0.40   \n",
       "3                   100.00                    0                     0.00   \n",
       "4                    99.96                    0                     0.04   \n",
       "\n",
       "   CNN3classes1stClass  CNN3Classes1stClassPerc  CNN3Classes2ndClass  \\\n",
       "0                    1                    68.53                    0   \n",
       "1                    1                    82.26                    0   \n",
       "2                    1                    82.44                    0   \n",
       "3                    1                    70.51                    2   \n",
       "4                    1                    88.67                    2   \n",
       "\n",
       "   CNN3Classes2ndClassPerc  CNN3Classes3rdClass  CNN3Classes3rdClassPerc  \n",
       "0                    23.44                    2                     8.03  \n",
       "1                    16.50                    2                     1.25  \n",
       "2                    14.63                    2                     2.93  \n",
       "3                    20.58                    0                     8.91  \n",
       "4                     8.77                    0                     2.56  "
      ],
      "text/html": [
       "<div>\n",
       "<style scoped>\n",
       "    .dataframe tbody tr th:only-of-type {\n",
       "        vertical-align: middle;\n",
       "    }\n",
       "\n",
       "    .dataframe tbody tr th {\n",
       "        vertical-align: top;\n",
       "    }\n",
       "\n",
       "    .dataframe thead th {\n",
       "        text-align: right;\n",
       "    }\n",
       "</style>\n",
       "<table border=\"1\" class=\"dataframe\">\n",
       "  <thead>\n",
       "    <tr style=\"text-align: right;\">\n",
       "      <th></th>\n",
       "      <th>dr7objid</th>\n",
       "      <th>TType</th>\n",
       "      <th>K</th>\n",
       "      <th>C</th>\n",
       "      <th>A</th>\n",
       "      <th>S</th>\n",
       "      <th>G2</th>\n",
       "      <th>H</th>\n",
       "      <th>Error</th>\n",
       "      <th>ML2classes</th>\n",
       "      <th>CNN2classes1stClass</th>\n",
       "      <th>CNN2classes1stClassPerc</th>\n",
       "      <th>CNN2classes2ndClass</th>\n",
       "      <th>CNN2Classes2ndClassPerc</th>\n",
       "      <th>CNN3classes1stClass</th>\n",
       "      <th>CNN3Classes1stClassPerc</th>\n",
       "      <th>CNN3Classes2ndClass</th>\n",
       "      <th>CNN3Classes2ndClassPerc</th>\n",
       "      <th>CNN3Classes3rdClass</th>\n",
       "      <th>CNN3Classes3rdClassPerc</th>\n",
       "    </tr>\n",
       "  </thead>\n",
       "  <tbody>\n",
       "    <tr>\n",
       "      <th>0</th>\n",
       "      <td>587722952230175035</td>\n",
       "      <td>3.32451915741</td>\n",
       "      <td>13.578409</td>\n",
       "      <td>0.329970</td>\n",
       "      <td>0.773113</td>\n",
       "      <td>0.845577</td>\n",
       "      <td>1.741071</td>\n",
       "      <td>0.828695</td>\n",
       "      <td>0</td>\n",
       "      <td>1</td>\n",
       "      <td>1</td>\n",
       "      <td>100.00</td>\n",
       "      <td>0</td>\n",
       "      <td>0.00</td>\n",
       "      <td>1</td>\n",
       "      <td>68.53</td>\n",
       "      <td>0</td>\n",
       "      <td>23.44</td>\n",
       "      <td>2</td>\n",
       "      <td>8.03</td>\n",
       "    </tr>\n",
       "    <tr>\n",
       "      <th>1</th>\n",
       "      <td>587722952230175138</td>\n",
       "      <td>2.18677520752</td>\n",
       "      <td>33.819154</td>\n",
       "      <td>0.385649</td>\n",
       "      <td>0.614753</td>\n",
       "      <td>0.827377</td>\n",
       "      <td>1.604379</td>\n",
       "      <td>0.743405</td>\n",
       "      <td>0</td>\n",
       "      <td>1</td>\n",
       "      <td>1</td>\n",
       "      <td>99.98</td>\n",
       "      <td>0</td>\n",
       "      <td>0.02</td>\n",
       "      <td>1</td>\n",
       "      <td>82.26</td>\n",
       "      <td>0</td>\n",
       "      <td>16.50</td>\n",
       "      <td>2</td>\n",
       "      <td>1.25</td>\n",
       "    </tr>\n",
       "    <tr>\n",
       "      <th>2</th>\n",
       "      <td>587722952230175145</td>\n",
       "      <td>1.80833292007</td>\n",
       "      <td>16.767047</td>\n",
       "      <td>0.322301</td>\n",
       "      <td>0.861787</td>\n",
       "      <td>0.934300</td>\n",
       "      <td>1.511484</td>\n",
       "      <td>0.740404</td>\n",
       "      <td>0</td>\n",
       "      <td>1</td>\n",
       "      <td>1</td>\n",
       "      <td>99.60</td>\n",
       "      <td>0</td>\n",
       "      <td>0.40</td>\n",
       "      <td>1</td>\n",
       "      <td>82.44</td>\n",
       "      <td>0</td>\n",
       "      <td>14.63</td>\n",
       "      <td>2</td>\n",
       "      <td>2.93</td>\n",
       "    </tr>\n",
       "    <tr>\n",
       "      <th>3</th>\n",
       "      <td>587722952230175173</td>\n",
       "      <td>2.6344764232599998</td>\n",
       "      <td>23.491833</td>\n",
       "      <td>0.338940</td>\n",
       "      <td>0.777340</td>\n",
       "      <td>0.881642</td>\n",
       "      <td>1.539079</td>\n",
       "      <td>0.740161</td>\n",
       "      <td>0</td>\n",
       "      <td>1</td>\n",
       "      <td>1</td>\n",
       "      <td>100.00</td>\n",
       "      <td>0</td>\n",
       "      <td>0.00</td>\n",
       "      <td>1</td>\n",
       "      <td>70.51</td>\n",
       "      <td>2</td>\n",
       "      <td>20.58</td>\n",
       "      <td>0</td>\n",
       "      <td>8.91</td>\n",
       "    </tr>\n",
       "    <tr>\n",
       "      <th>4</th>\n",
       "      <td>587722952230240617</td>\n",
       "      <td>3.08055019379</td>\n",
       "      <td>35.769025</td>\n",
       "      <td>0.330124</td>\n",
       "      <td>0.762131</td>\n",
       "      <td>0.910175</td>\n",
       "      <td>1.102738</td>\n",
       "      <td>0.654903</td>\n",
       "      <td>0</td>\n",
       "      <td>1</td>\n",
       "      <td>1</td>\n",
       "      <td>99.96</td>\n",
       "      <td>0</td>\n",
       "      <td>0.04</td>\n",
       "      <td>1</td>\n",
       "      <td>88.67</td>\n",
       "      <td>2</td>\n",
       "      <td>8.77</td>\n",
       "      <td>0</td>\n",
       "      <td>2.56</td>\n",
       "    </tr>\n",
       "  </tbody>\n",
       "</table>\n",
       "</div>"
      ]
     },
     "metadata": {},
     "execution_count": 20
    }
   ],
   "metadata": {}
  },
  {
   "cell_type": "markdown",
   "source": [
    "# Data Cleaning"
   ],
   "metadata": {}
  },
  {
   "cell_type": "code",
   "execution_count": 21,
   "source": [
    "df2.info()"
   ],
   "outputs": [
    {
     "output_type": "stream",
     "name": "stdout",
     "text": [
      "<class 'pandas.core.frame.DataFrame'>\n",
      "RangeIndex: 670560 entries, 0 to 670559\n",
      "Data columns (total 20 columns):\n",
      " #   Column                   Non-Null Count   Dtype  \n",
      "---  ------                   --------------   -----  \n",
      " 0   dr7objid                 670560 non-null  int64  \n",
      " 1   TType                    670560 non-null  object \n",
      " 2   K                        670560 non-null  float64\n",
      " 3   C                        670560 non-null  float64\n",
      " 4   A                        670560 non-null  float64\n",
      " 5   S                        670560 non-null  float64\n",
      " 6   G2                       670560 non-null  float64\n",
      " 7   H                        670560 non-null  float64\n",
      " 8   Error                    670560 non-null  int64  \n",
      " 9   ML2classes               670560 non-null  object \n",
      " 10  CNN2classes1stClass      670560 non-null  int64  \n",
      " 11  CNN2classes1stClassPerc  670560 non-null  float64\n",
      " 12  CNN2classes2ndClass      670560 non-null  int64  \n",
      " 13  CNN2Classes2ndClassPerc  670560 non-null  float64\n",
      " 14  CNN3classes1stClass      670560 non-null  int64  \n",
      " 15  CNN3Classes1stClassPerc  670560 non-null  float64\n",
      " 16  CNN3Classes2ndClass      670560 non-null  int64  \n",
      " 17  CNN3Classes2ndClassPerc  670560 non-null  float64\n",
      " 18  CNN3Classes3rdClass      670560 non-null  int64  \n",
      " 19  CNN3Classes3rdClassPerc  670560 non-null  float64\n",
      "dtypes: float64(11), int64(7), object(2)\n",
      "memory usage: 102.3+ MB\n"
     ]
    }
   ],
   "metadata": {}
  },
  {
   "cell_type": "code",
   "execution_count": 22,
   "source": [
    "df2.columns.tolist()"
   ],
   "outputs": [
    {
     "output_type": "execute_result",
     "data": {
      "text/plain": [
       "['dr7objid',\n",
       " 'TType',\n",
       " 'K',\n",
       " 'C',\n",
       " 'A',\n",
       " 'S',\n",
       " 'G2',\n",
       " 'H',\n",
       " 'Error',\n",
       " 'ML2classes',\n",
       " 'CNN2classes1stClass',\n",
       " 'CNN2classes1stClassPerc',\n",
       " 'CNN2classes2ndClass',\n",
       " 'CNN2Classes2ndClassPerc',\n",
       " 'CNN3classes1stClass',\n",
       " 'CNN3Classes1stClassPerc',\n",
       " 'CNN3Classes2ndClass',\n",
       " 'CNN3Classes2ndClassPerc',\n",
       " 'CNN3Classes3rdClass',\n",
       " 'CNN3Classes3rdClassPerc']"
      ]
     },
     "metadata": {},
     "execution_count": 22
    }
   ],
   "metadata": {}
  },
  {
   "cell_type": "markdown",
   "source": [
    "# Data Preprocessing"
   ],
   "metadata": {}
  },
  {
   "cell_type": "code",
   "execution_count": 23,
   "source": [
    "feature_cols = df2[['C','A', 'S', 'G2', 'H']]\r\n",
    "target = df2[\"CNN2classes1stClass\"]\r\n",
    "X = feature_cols\r\n",
    "Y = target"
   ],
   "outputs": [],
   "metadata": {}
  },
  {
   "cell_type": "code",
   "execution_count": 24,
   "source": [
    "X_train, X_test, y_train, y_test = train_test_split(X, Y, test_size=0.1, random_state=69)\r\n",
    "X_train, X_val, y_train, y_val = train_test_split(X_train, y_train, test_size=2/9, random_state=69)"
   ],
   "outputs": [],
   "metadata": {}
  },
  {
   "cell_type": "markdown",
   "source": [
    "## Model Definition"
   ],
   "metadata": {}
  },
  {
   "cell_type": "code",
   "execution_count": 25,
   "source": [
    "from sklearn.svm import SVC\r\n",
    "model_svc_linear = SVC(kernel='rbf', random_state=69,C=1)"
   ],
   "outputs": [],
   "metadata": {}
  },
  {
   "cell_type": "markdown",
   "source": [
    "## Scaller "
   ],
   "metadata": {}
  },
  {
   "cell_type": "code",
   "execution_count": 26,
   "source": [
    "def z_scoring(arrays):\r\n",
    "    arr_mean = arrays.mean()\r\n",
    "    arr_std = arrays.std()\r\n",
    "    arr_rst = (arrays-arr_mean)/arr_std\r\n",
    "    return arr_rst,arr_mean,arr_std\r\n",
    "\r\n",
    "def restore_z_score(arrays,arr_mean,arr_std):\r\n",
    "    return arrays*arr_std+arr_mean"
   ],
   "outputs": [],
   "metadata": {}
  },
  {
   "cell_type": "code",
   "execution_count": 27,
   "source": [
    "scaler = StandardScaler()\r\n",
    "scaler.fit(X_train)\r\n",
    "X_train_trf = scaler.transform(X_train) \r\n",
    "y_train_trf,y_mean,y_std = z_scoring(y_train)"
   ],
   "outputs": [],
   "metadata": {}
  },
  {
   "cell_type": "markdown",
   "source": [
    "## Model Training"
   ],
   "metadata": {}
  },
  {
   "cell_type": "code",
   "execution_count": 28,
   "source": [
    "%time model_svc_linear.fit(X_train_trf, y_train)"
   ],
   "outputs": [],
   "metadata": {}
  },
  {
   "cell_type": "markdown",
   "source": [
    "sampai dengan waktu LC hampir habis running model training belum selesai "
   ],
   "metadata": {}
  },
  {
   "cell_type": "markdown",
   "source": [
    "## Model Evaluation"
   ],
   "metadata": {}
  },
  {
   "cell_type": "markdown",
   "source": [
    "## MAE"
   ],
   "metadata": {}
  },
  {
   "cell_type": "code",
   "execution_count": null,
   "source": [
    "from sklearn.metrics import mean_absolute_error,mean_squared_error,r2_score\r\n",
    "mean_absolute_error(y_train, model_pred)"
   ],
   "outputs": [],
   "metadata": {}
  },
  {
   "cell_type": "markdown",
   "source": [
    "idem belom selesai running juga"
   ],
   "metadata": {}
  },
  {
   "cell_type": "markdown",
   "source": [
    "## MSE"
   ],
   "metadata": {}
  },
  {
   "cell_type": "code",
   "execution_count": null,
   "source": [
    "np.sqrt(mean_squared_error(y_train, model_pred))"
   ],
   "outputs": [],
   "metadata": {}
  },
  {
   "cell_type": "markdown",
   "source": [
    "Pending Running"
   ],
   "metadata": {}
  },
  {
   "cell_type": "markdown",
   "source": [
    "## R2"
   ],
   "metadata": {}
  },
  {
   "cell_type": "code",
   "execution_count": null,
   "source": [
    "r2_score(y_train,model_pred)"
   ],
   "outputs": [],
   "metadata": {}
  },
  {
   "cell_type": "markdown",
   "source": [
    "Pending Running"
   ],
   "metadata": {}
  }
 ],
 "metadata": {
  "orig_nbformat": 4,
  "language_info": {
   "name": "python",
   "version": "3.8.8",
   "mimetype": "text/x-python",
   "codemirror_mode": {
    "name": "ipython",
    "version": 3
   },
   "pygments_lexer": "ipython3",
   "nbconvert_exporter": "python",
   "file_extension": ".py"
  },
  "kernelspec": {
   "name": "python3",
   "display_name": "Python 3.8.8 64-bit ('base': conda)"
  },
  "interpreter": {
   "hash": "7b0a3cb1454f5aad3a6e8cec18c0f641c26330b09d7141075d1534be40c6ccf5"
  }
 },
 "nbformat": 4,
 "nbformat_minor": 2
}