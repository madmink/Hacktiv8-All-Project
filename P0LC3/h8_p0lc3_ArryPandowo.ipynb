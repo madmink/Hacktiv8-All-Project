{
 "cells": [
  {
   "cell_type": "markdown",
   "source": [
    "# Perkenalan"
   ],
   "metadata": {}
  },
  {
   "cell_type": "markdown",
   "source": [
    "Nama Arry Pandowo, Batch 1 Full Stack Data Science Hacktiv8"
   ],
   "metadata": {}
  },
  {
   "cell_type": "markdown",
   "source": [
    "# Library"
   ],
   "metadata": {}
  },
  {
   "cell_type": "code",
   "execution_count": 15,
   "source": [
    "import numpy as np\r\n",
    "import scipy as sp\r\n",
    "import pandas as pd \r\n",
    "import scipy.stats as stats\r\n",
    "import matplotlib.pyplot as plt\r\n",
    "import seaborn as sns\r\n",
    "import random\r\n",
    "from statsmodels.stats.proportion import proportions_ztest, proportion_confint"
   ],
   "outputs": [],
   "metadata": {}
  },
  {
   "cell_type": "markdown",
   "source": [
    "Penjelasan terkait penggunaan dari Library : \r\n",
    "* Numpy digunakan untuk melakukan manipulasi data array\r\n",
    "* Pandas digunakan untuk melakukan manipulasi atas data dalam bentuk dataframe\r\n",
    "* Scipy.stats digunakan untuk melakukan perhitungan statistik dengan library scipy\r\n",
    "* Matplotlib dan seaborn digunakan untuk melakukan visualisasi data\r\n",
    "* random digunakan untuk membantu penetapan seed agar random sampling yang dipilih tetap dan tidak berubah ketika file di re run\r\n",
    "* statsmodels.stats.proportion digunakan untuk melakukan perhitungan z-test dan pvalue "
   ],
   "metadata": {}
  },
  {
   "cell_type": "markdown",
   "source": [
    "# Penanda Soal"
   ],
   "metadata": {}
  },
  {
   "cell_type": "markdown",
   "source": [
    "Pada Tugas ini yang perlu dilakukan adalah:\r\n",
    "* Data Loading atas dataset yang akan dianalisa\r\n",
    "* Pengecekan dan perapihan atas data set untuk diolah lebih lanjut\r\n",
    "* Penetapan sampling yang akan digunakan\r\n",
    "* Penetapan atas hipotesis yang akan dilakukan testing\r\n",
    "* perhitungan standard deviasi dan standard error\r\n",
    "* perhitungan p-value untuk penetapan dari hipotesis"
   ],
   "metadata": {}
  },
  {
   "cell_type": "markdown",
   "source": [
    "# Data Loading"
   ],
   "metadata": {}
  },
  {
   "cell_type": "markdown",
   "source": [
    "## Load Data dengan pandas "
   ],
   "metadata": {}
  },
  {
   "cell_type": "code",
   "execution_count": 2,
   "source": [
    "df = pd.read_csv(\"purchase_data.txt\", sep=';')\r\n",
    "df.head()"
   ],
   "outputs": [
    {
     "output_type": "execute_result",
     "data": {
      "text/plain": [
       "   user_id                   timestamp      group landing_page  purchased\n",
       "0   851104  2017-01-21 22:11:48.556739    control     old_page          0\n",
       "1   804228  2017-01-12 08:01:45.159739    control     old_page          0\n",
       "2   661590  2017-01-11 16:55:06.154213  treatment     new_page          0\n",
       "3   853541  2017-01-08 18:28:03.143765  treatment     new_page          0\n",
       "4   864975  2017-01-21 01:52:26.210827    control     old_page          1"
      ],
      "text/html": [
       "<div>\n",
       "<style scoped>\n",
       "    .dataframe tbody tr th:only-of-type {\n",
       "        vertical-align: middle;\n",
       "    }\n",
       "\n",
       "    .dataframe tbody tr th {\n",
       "        vertical-align: top;\n",
       "    }\n",
       "\n",
       "    .dataframe thead th {\n",
       "        text-align: right;\n",
       "    }\n",
       "</style>\n",
       "<table border=\"1\" class=\"dataframe\">\n",
       "  <thead>\n",
       "    <tr style=\"text-align: right;\">\n",
       "      <th></th>\n",
       "      <th>user_id</th>\n",
       "      <th>timestamp</th>\n",
       "      <th>group</th>\n",
       "      <th>landing_page</th>\n",
       "      <th>purchased</th>\n",
       "    </tr>\n",
       "  </thead>\n",
       "  <tbody>\n",
       "    <tr>\n",
       "      <th>0</th>\n",
       "      <td>851104</td>\n",
       "      <td>2017-01-21 22:11:48.556739</td>\n",
       "      <td>control</td>\n",
       "      <td>old_page</td>\n",
       "      <td>0</td>\n",
       "    </tr>\n",
       "    <tr>\n",
       "      <th>1</th>\n",
       "      <td>804228</td>\n",
       "      <td>2017-01-12 08:01:45.159739</td>\n",
       "      <td>control</td>\n",
       "      <td>old_page</td>\n",
       "      <td>0</td>\n",
       "    </tr>\n",
       "    <tr>\n",
       "      <th>2</th>\n",
       "      <td>661590</td>\n",
       "      <td>2017-01-11 16:55:06.154213</td>\n",
       "      <td>treatment</td>\n",
       "      <td>new_page</td>\n",
       "      <td>0</td>\n",
       "    </tr>\n",
       "    <tr>\n",
       "      <th>3</th>\n",
       "      <td>853541</td>\n",
       "      <td>2017-01-08 18:28:03.143765</td>\n",
       "      <td>treatment</td>\n",
       "      <td>new_page</td>\n",
       "      <td>0</td>\n",
       "    </tr>\n",
       "    <tr>\n",
       "      <th>4</th>\n",
       "      <td>864975</td>\n",
       "      <td>2017-01-21 01:52:26.210827</td>\n",
       "      <td>control</td>\n",
       "      <td>old_page</td>\n",
       "      <td>1</td>\n",
       "    </tr>\n",
       "  </tbody>\n",
       "</table>\n",
       "</div>"
      ]
     },
     "metadata": {},
     "execution_count": 2
    }
   ],
   "metadata": {}
  },
  {
   "cell_type": "markdown",
   "source": [
    "dikarenakan separator menggunakan semicolomn (;) maka ditambahkan attribute sept = \";\""
   ],
   "metadata": {}
  },
  {
   "cell_type": "markdown",
   "source": [
    "## Pengecekan data"
   ],
   "metadata": {}
  },
  {
   "cell_type": "code",
   "execution_count": 3,
   "source": [
    "df.info()"
   ],
   "outputs": [
    {
     "output_type": "stream",
     "name": "stdout",
     "text": [
      "<class 'pandas.core.frame.DataFrame'>\n",
      "RangeIndex: 294478 entries, 0 to 294477\n",
      "Data columns (total 5 columns):\n",
      " #   Column        Non-Null Count   Dtype \n",
      "---  ------        --------------   ----- \n",
      " 0   user_id       294478 non-null  int64 \n",
      " 1   timestamp     294478 non-null  object\n",
      " 2   group         294478 non-null  object\n",
      " 3   landing_page  294478 non-null  object\n",
      " 4   purchased     294478 non-null  int64 \n",
      "dtypes: int64(2), object(3)\n",
      "memory usage: 11.2+ MB\n"
     ]
    }
   ],
   "metadata": {}
  },
  {
   "cell_type": "markdown",
   "source": [
    "Data tidak memiliki informasi N/A, sehingga aman untuk diolah lebih lanjut"
   ],
   "metadata": {}
  },
  {
   "cell_type": "markdown",
   "source": [
    "## Matriks Group data ke landing page"
   ],
   "metadata": {}
  },
  {
   "cell_type": "code",
   "execution_count": 4,
   "source": [
    "pd.crosstab(df['group'], df['landing_page'])"
   ],
   "outputs": [
    {
     "output_type": "execute_result",
     "data": {
      "text/plain": [
       "landing_page  new_page  old_page\n",
       "group                           \n",
       "control           1928    145274\n",
       "treatment       145311      1965"
      ],
      "text/html": [
       "<div>\n",
       "<style scoped>\n",
       "    .dataframe tbody tr th:only-of-type {\n",
       "        vertical-align: middle;\n",
       "    }\n",
       "\n",
       "    .dataframe tbody tr th {\n",
       "        vertical-align: top;\n",
       "    }\n",
       "\n",
       "    .dataframe thead th {\n",
       "        text-align: right;\n",
       "    }\n",
       "</style>\n",
       "<table border=\"1\" class=\"dataframe\">\n",
       "  <thead>\n",
       "    <tr style=\"text-align: right;\">\n",
       "      <th>landing_page</th>\n",
       "      <th>new_page</th>\n",
       "      <th>old_page</th>\n",
       "    </tr>\n",
       "    <tr>\n",
       "      <th>group</th>\n",
       "      <th></th>\n",
       "      <th></th>\n",
       "    </tr>\n",
       "  </thead>\n",
       "  <tbody>\n",
       "    <tr>\n",
       "      <th>control</th>\n",
       "      <td>1928</td>\n",
       "      <td>145274</td>\n",
       "    </tr>\n",
       "    <tr>\n",
       "      <th>treatment</th>\n",
       "      <td>145311</td>\n",
       "      <td>1965</td>\n",
       "    </tr>\n",
       "  </tbody>\n",
       "</table>\n",
       "</div>"
      ]
     },
     "metadata": {},
     "execution_count": 4
    }
   ],
   "metadata": {}
  },
  {
   "cell_type": "markdown",
   "source": [
    "pada fungsi crosstab tersebut didapat informasi tentang hubungan antara list data group dan landing page, pada data tersebut diduga bahwa terdapat user yang melakukan view new page and old page pada sesi yang berbeda sehingga jumlah pada matriks menunjukan angka yang tidak sesuai dengan total populasi "
   ],
   "metadata": {}
  },
  {
   "cell_type": "markdown",
   "source": [
    "## mengetahui user dengan user id yang sama dengan login berulang"
   ],
   "metadata": {}
  },
  {
   "cell_type": "code",
   "execution_count": 5,
   "source": [
    "jmllogin = df['user_id'].value_counts(ascending=False)\r\n",
    "banyaklogin = jmllogin[jmllogin > 1].count()\r\n",
    "banyaklogin"
   ],
   "outputs": [
    {
     "output_type": "execute_result",
     "data": {
      "text/plain": [
       "3894"
      ]
     },
     "metadata": {},
     "execution_count": 5
    }
   ],
   "metadata": {}
  },
  {
   "cell_type": "markdown",
   "source": [
    "## menghilangkan user dengan user id yang sama dengan login berulang"
   ],
   "metadata": {}
  },
  {
   "cell_type": "markdown",
   "source": [
    "Jumlah user dengan user_id yang sama dan login berulang sejumlah 3894 dikeluarkan dari sample size karena dapat menyebabkan double sampling ketika penetapan sample"
   ],
   "metadata": {}
  },
  {
   "cell_type": "code",
   "execution_count": 6,
   "source": [
    "userdrop = jmllogin[jmllogin > 1].index\r\n",
    "\r\n",
    "updatedf = df[~df['user_id'].isin(userdrop)]\r\n",
    "updatedf.shape"
   ],
   "outputs": [
    {
     "output_type": "execute_result",
     "data": {
      "text/plain": [
       "(286690, 5)"
      ]
     },
     "metadata": {},
     "execution_count": 6
    }
   ],
   "metadata": {}
  },
  {
   "cell_type": "markdown",
   "source": [
    "updatedf siap digunakan sebagai populasi yang akan digunakan dengan total populasi 286690"
   ],
   "metadata": {}
  },
  {
   "cell_type": "markdown",
   "source": [
    "## Penetapan sample jumlah sample"
   ],
   "metadata": {}
  },
  {
   "cell_type": "markdown",
   "source": [
    "Dengan banyaknya data populasi, maka perlu dilakukan pelaksanaan penetapan sample ditetapkan sebesar 3% dari total populasi yaitu sebesar"
   ],
   "metadata": {}
  },
  {
   "cell_type": "code",
   "execution_count": 7,
   "source": [
    "Population = 286690\r\n",
    "Samplesize = 0.03\r\n",
    "Sample = round(Population * Samplesize)\r\n",
    "Sample"
   ],
   "outputs": [
    {
     "output_type": "execute_result",
     "data": {
      "text/plain": [
       "8601"
      ]
     },
     "metadata": {},
     "execution_count": 7
    }
   ],
   "metadata": {}
  },
  {
   "cell_type": "markdown",
   "source": [
    "sample yang ditetapkan sebesar 8601"
   ],
   "metadata": {}
  },
  {
   "cell_type": "markdown",
   "source": [
    "# Data Processing"
   ],
   "metadata": {}
  },
  {
   "cell_type": "markdown",
   "source": [
    "## Penetapan Hipotesis"
   ],
   "metadata": {}
  },
  {
   "cell_type": "markdown",
   "source": [
    "Dari soal di tegaskan bahwa harus melakukan penetapan atas H0 dan H1 maka didapatkan formula penulisan hipotesis sebagai berikut : \r\n",
    "\r\n",
    "yang mana \r\n",
    "* H0 mengindikasikan bahwa desain baru memberikan dampak signifikan atas keputusan user melakukan pembelian, dan \r\n",
    "* H1 mengindikasikan bahwa desain baru tidak memberikan dampak yang signifikan atas keputusan user dalam melakukan pembelian \r\n",
    "\r\n",
    "> H0 : P = P0 atau\r\n",
    "> H1 : P /= P0\r\n",
    "\r\n",
    "Dikarenakan tes berikut termasuk kedalam social science, maka dapat digunakan **confidence level** di 95% dengan begitu dapat ditetapkan angka critical value pada 0.05%.\r\n",
    "Metode penetapan hipotesis akan menggunakan **two-tailed test**, dimana  :\r\n",
    "\r\n",
    "* Group dibagi kedalam 2 kelompok yakni Grup Kontrol dan grup treatment akan menjadi **Independent variable**\r\n",
    "* Purchased memberikan informasi mengenai user melakukan pembelian (1) atau tidak (0) dalam sesi login yg dia lakukan akan menjadi **dependent variable**"
   ],
   "metadata": {}
  },
  {
   "cell_type": "markdown",
   "source": [
    "## Penetapan sample"
   ],
   "metadata": {}
  },
  {
   "cell_type": "code",
   "execution_count": 16,
   "source": [
    "random.seed(10)\r\n",
    "control_sample = updatedf[updatedf['group'] == 'control'].sample(n=8601)\r\n",
    "treatment_sample = updatedf[updatedf['group'] == 'treatment'].sample(n=8601)\r\n",
    "\r\n",
    "sampleAB = pd.concat([control_sample, treatment_sample])\r\n",
    "sampleAB.reset_index(drop=True, inplace=True)\r\n",
    "\r\n",
    "sampleAB.shape"
   ],
   "outputs": [
    {
     "output_type": "execute_result",
     "data": {
      "text/plain": [
       "(17202, 5)"
      ]
     },
     "metadata": {},
     "execution_count": 16
    }
   ],
   "metadata": {}
  },
  {
   "cell_type": "markdown",
   "source": [
    "Random seed ditetapkan 10 agar sample yang ditetapkan tidak bergerak"
   ],
   "metadata": {}
  },
  {
   "cell_type": "code",
   "execution_count": 17,
   "source": [
    "sampleAB.head()"
   ],
   "outputs": [
    {
     "output_type": "execute_result",
     "data": {
      "text/plain": [
       "   user_id                   timestamp    group landing_page  purchased\n",
       "0   890548  2017-01-22 06:27:09.271738  control     old_page          0\n",
       "1   818301  2017-01-16 03:35:08.250860  control     old_page          0\n",
       "2   731812  2017-01-05 20:58:17.760317  control     old_page          0\n",
       "3   921560  2017-01-11 19:47:05.763811  control     old_page          0\n",
       "4   756081  2017-01-08 18:14:00.540807  control     old_page          0"
      ],
      "text/html": [
       "<div>\n",
       "<style scoped>\n",
       "    .dataframe tbody tr th:only-of-type {\n",
       "        vertical-align: middle;\n",
       "    }\n",
       "\n",
       "    .dataframe tbody tr th {\n",
       "        vertical-align: top;\n",
       "    }\n",
       "\n",
       "    .dataframe thead th {\n",
       "        text-align: right;\n",
       "    }\n",
       "</style>\n",
       "<table border=\"1\" class=\"dataframe\">\n",
       "  <thead>\n",
       "    <tr style=\"text-align: right;\">\n",
       "      <th></th>\n",
       "      <th>user_id</th>\n",
       "      <th>timestamp</th>\n",
       "      <th>group</th>\n",
       "      <th>landing_page</th>\n",
       "      <th>purchased</th>\n",
       "    </tr>\n",
       "  </thead>\n",
       "  <tbody>\n",
       "    <tr>\n",
       "      <th>0</th>\n",
       "      <td>890548</td>\n",
       "      <td>2017-01-22 06:27:09.271738</td>\n",
       "      <td>control</td>\n",
       "      <td>old_page</td>\n",
       "      <td>0</td>\n",
       "    </tr>\n",
       "    <tr>\n",
       "      <th>1</th>\n",
       "      <td>818301</td>\n",
       "      <td>2017-01-16 03:35:08.250860</td>\n",
       "      <td>control</td>\n",
       "      <td>old_page</td>\n",
       "      <td>0</td>\n",
       "    </tr>\n",
       "    <tr>\n",
       "      <th>2</th>\n",
       "      <td>731812</td>\n",
       "      <td>2017-01-05 20:58:17.760317</td>\n",
       "      <td>control</td>\n",
       "      <td>old_page</td>\n",
       "      <td>0</td>\n",
       "    </tr>\n",
       "    <tr>\n",
       "      <th>3</th>\n",
       "      <td>921560</td>\n",
       "      <td>2017-01-11 19:47:05.763811</td>\n",
       "      <td>control</td>\n",
       "      <td>old_page</td>\n",
       "      <td>0</td>\n",
       "    </tr>\n",
       "    <tr>\n",
       "      <th>4</th>\n",
       "      <td>756081</td>\n",
       "      <td>2017-01-08 18:14:00.540807</td>\n",
       "      <td>control</td>\n",
       "      <td>old_page</td>\n",
       "      <td>0</td>\n",
       "    </tr>\n",
       "  </tbody>\n",
       "</table>\n",
       "</div>"
      ]
     },
     "metadata": {},
     "execution_count": 17
    }
   ],
   "metadata": {}
  },
  {
   "cell_type": "markdown",
   "source": [
    "berikut sample yang akan digunakan untuk melakukan penetapan hipotesis testing atas problem diatas, dengan total sample 17202 yang terdiri dari 8601 group control dan 8601 group treatment"
   ],
   "metadata": {}
  },
  {
   "cell_type": "markdown",
   "source": [
    "## Data info atas sample AB"
   ],
   "metadata": {}
  },
  {
   "cell_type": "code",
   "execution_count": 19,
   "source": [
    "sampleAB.describe()"
   ],
   "outputs": [
    {
     "output_type": "execute_result",
     "data": {
      "text/plain": [
       "             user_id     purchased\n",
       "count   17202.000000  17202.000000\n",
       "mean   787865.070341      0.118707\n",
       "std     91330.634161      0.323453\n",
       "min    630000.000000      0.000000\n",
       "25%    709052.500000      0.000000\n",
       "50%    788063.000000      0.000000\n",
       "75%    866866.250000      0.000000\n",
       "max    945986.000000      1.000000"
      ],
      "text/html": [
       "<div>\n",
       "<style scoped>\n",
       "    .dataframe tbody tr th:only-of-type {\n",
       "        vertical-align: middle;\n",
       "    }\n",
       "\n",
       "    .dataframe tbody tr th {\n",
       "        vertical-align: top;\n",
       "    }\n",
       "\n",
       "    .dataframe thead th {\n",
       "        text-align: right;\n",
       "    }\n",
       "</style>\n",
       "<table border=\"1\" class=\"dataframe\">\n",
       "  <thead>\n",
       "    <tr style=\"text-align: right;\">\n",
       "      <th></th>\n",
       "      <th>user_id</th>\n",
       "      <th>purchased</th>\n",
       "    </tr>\n",
       "  </thead>\n",
       "  <tbody>\n",
       "    <tr>\n",
       "      <th>count</th>\n",
       "      <td>17202.000000</td>\n",
       "      <td>17202.000000</td>\n",
       "    </tr>\n",
       "    <tr>\n",
       "      <th>mean</th>\n",
       "      <td>787865.070341</td>\n",
       "      <td>0.118707</td>\n",
       "    </tr>\n",
       "    <tr>\n",
       "      <th>std</th>\n",
       "      <td>91330.634161</td>\n",
       "      <td>0.323453</td>\n",
       "    </tr>\n",
       "    <tr>\n",
       "      <th>min</th>\n",
       "      <td>630000.000000</td>\n",
       "      <td>0.000000</td>\n",
       "    </tr>\n",
       "    <tr>\n",
       "      <th>25%</th>\n",
       "      <td>709052.500000</td>\n",
       "      <td>0.000000</td>\n",
       "    </tr>\n",
       "    <tr>\n",
       "      <th>50%</th>\n",
       "      <td>788063.000000</td>\n",
       "      <td>0.000000</td>\n",
       "    </tr>\n",
       "    <tr>\n",
       "      <th>75%</th>\n",
       "      <td>866866.250000</td>\n",
       "      <td>0.000000</td>\n",
       "    </tr>\n",
       "    <tr>\n",
       "      <th>max</th>\n",
       "      <td>945986.000000</td>\n",
       "      <td>1.000000</td>\n",
       "    </tr>\n",
       "  </tbody>\n",
       "</table>\n",
       "</div>"
      ]
     },
     "metadata": {},
     "execution_count": 19
    }
   ],
   "metadata": {}
  },
  {
   "cell_type": "markdown",
   "source": [
    "desrkipsi tersebut tidak memiliki arti bermakna untuk penelitian ini dikarenakan tujuan penelitian adalah untuk mengetahui dibelinya atau tidak sebuah produk (Yes or No), sehingga makna dari mean min quantile dan max tidak atas user id tidak memiliki makna berarti"
   ],
   "metadata": {}
  },
  {
   "cell_type": "markdown",
   "source": [
    "## Berapa banyak yang beli ketika landing page baru ? "
   ],
   "metadata": {}
  },
  {
   "cell_type": "code",
   "execution_count": 18,
   "source": [
    "beliDiBaru = sampleAB.groupby('group')['purchased']\r\n",
    "\r\n",
    "std_p = lambda x: np.std(x, ddof=0)\r\n",
    "se_p = lambda x: stats.sem(x, ddof=0) \r\n",
    "\r\n",
    "beliDiBaru = beliDiBaru.agg([np.mean, std_p, se_p])\r\n",
    "beliDiBaru.columns = ['beliDiBaru', 'std', 'std_error']\r\n",
    "\r\n",
    "beliDiBaru"
   ],
   "outputs": [
    {
     "output_type": "execute_result",
     "data": {
      "text/plain": [
       "           beliDiBaru       std  std_error\n",
       "group                                     \n",
       "control      0.117893  0.322482   0.003477\n",
       "treatment    0.119521  0.324401   0.003498"
      ],
      "text/html": [
       "<div>\n",
       "<style scoped>\n",
       "    .dataframe tbody tr th:only-of-type {\n",
       "        vertical-align: middle;\n",
       "    }\n",
       "\n",
       "    .dataframe tbody tr th {\n",
       "        vertical-align: top;\n",
       "    }\n",
       "\n",
       "    .dataframe thead th {\n",
       "        text-align: right;\n",
       "    }\n",
       "</style>\n",
       "<table border=\"1\" class=\"dataframe\">\n",
       "  <thead>\n",
       "    <tr style=\"text-align: right;\">\n",
       "      <th></th>\n",
       "      <th>beliDiBaru</th>\n",
       "      <th>std</th>\n",
       "      <th>std_error</th>\n",
       "    </tr>\n",
       "    <tr>\n",
       "      <th>group</th>\n",
       "      <th></th>\n",
       "      <th></th>\n",
       "      <th></th>\n",
       "    </tr>\n",
       "  </thead>\n",
       "  <tbody>\n",
       "    <tr>\n",
       "      <th>control</th>\n",
       "      <td>0.117893</td>\n",
       "      <td>0.322482</td>\n",
       "      <td>0.003477</td>\n",
       "    </tr>\n",
       "    <tr>\n",
       "      <th>treatment</th>\n",
       "      <td>0.119521</td>\n",
       "      <td>0.324401</td>\n",
       "      <td>0.003498</td>\n",
       "    </tr>\n",
       "  </tbody>\n",
       "</table>\n",
       "</div>"
      ]
     },
     "metadata": {},
     "execution_count": 18
    }
   ],
   "metadata": {}
  },
  {
   "cell_type": "markdown",
   "source": [
    "berdasarkan hasil berikut, didapat bahwa antara control dan treatment memiliki performance yang tidak jauh beda dengan standar deviasi 0,322 dengan visualisasi sebagai berikut : "
   ],
   "metadata": {}
  },
  {
   "cell_type": "code",
   "execution_count": 11,
   "source": [
    "plt.figure(figsize=(6,5))\r\n",
    "\r\n",
    "sns.barplot(x=sampleAB['group'], y=sampleAB['purchased'], ci=False)\r\n",
    "\r\n",
    "plt.title('Beli dengan UX Baru', pad=15)\r\n",
    "plt.xlabel('Group', labelpad=15)\r\n",
    "plt.ylabel('Purchased (proportion)', labelpad=15);"
   ],
   "outputs": [
    {
     "output_type": "display_data",
     "data": {
      "text/plain": [
       "<Figure size 432x360 with 1 Axes>"
      ],
      "image/png": "[encoded data removed]"
     },
     "metadata": {
      "needs_background": "light"
     }
    }
   ],
   "metadata": {}
  },
  {
   "cell_type": "markdown",
   "source": [
    "Semakin terlihat jelas dalam visualisasi bahwa performance keduanya tidak terlalu berbeda jauh"
   ],
   "metadata": {}
  },
  {
   "cell_type": "markdown",
   "source": [
    "## P-Value dan z-test"
   ],
   "metadata": {}
  },
  {
   "cell_type": "markdown",
   "source": [
    "untuk menghitung hasil P-Value dan Z-test dilakukan pengelompokan atas hasil sesuai dengan group"
   ],
   "metadata": {}
  },
  {
   "cell_type": "code",
   "execution_count": 12,
   "source": [
    "gControl = sampleAB[sampleAB['group'] == 'control']['purchased']\r\n",
    "gTreatment = sampleAB[sampleAB['group'] == 'treatment']['purchased']"
   ],
   "outputs": [],
   "metadata": {}
  },
  {
   "cell_type": "code",
   "execution_count": 13,
   "source": [
    "totControl = gControl.count()\r\n",
    "totTreatment = gTreatment.count()\r\n",
    "successes = [gControl.sum(),gTreatment.sum()]\r\n",
    "nobs = [totControl, totTreatment]\r\n",
    "\r\n",
    "z_stat, pval = proportions_ztest(successes, nobs=nobs)\r\n",
    "(lower_con, lower_treat), (upper_con, upper_treat) = proportion_confint(successes, nobs=nobs, alpha=0.05)"
   ],
   "outputs": [],
   "metadata": {}
  },
  {
   "cell_type": "code",
   "execution_count": 21,
   "source": [
    "print('p-value = ' , pval)\r\n",
    "print('z-stat = ' , z_stat)\r\n",
    "print('95% for control group = ',lower_con, upper_con)\r\n",
    "print('95% for treatment group = ',lower_treat, upper_treat) "
   ],
   "outputs": [
    {
     "output_type": "stream",
     "name": "stdout",
     "text": [
      "p-value =  0.7082751462424903\n",
      "z-stat =  0.3741736237702787\n",
      "95% for control group =  0.11493332087755263 0.12875927300687942\n",
      "95% for treatment group =  0.11311878370106722 0.12685331256680862\n"
     ]
    }
   ],
   "metadata": {}
  },
  {
   "cell_type": "markdown",
   "source": [
    "# Hasil"
   ],
   "metadata": {}
  },
  {
   "cell_type": "markdown",
   "source": [
    "Kesimpulan : \r\n",
    "\r\n",
    "> hasil p-value (0.708) berada diatas critical-value (0.05) maka H1 diterima, dan H0 ditolak yang artinya desain baru tidak memberikan dampak signifikan terhadap keputusan user dalam melakukan pembelian\r\n"
   ],
   "metadata": {}
  }
 ],
 "metadata": {
  "interpreter": {
   "hash": "7b0a3cb1454f5aad3a6e8cec18c0f641c26330b09d7141075d1534be40c6ccf5"
  },
  "kernelspec": {
   "display_name": "Python 3.8.8 64-bit ('base': conda)",
   "name": "python3"
  },
  "language_info": {
   "codemirror_mode": {
    "name": "ipython",
    "version": 3
   },
   "file_extension": ".py",
   "mimetype": "text/x-python",
   "name": "python",
   "nbconvert_exporter": "python",
   "pygments_lexer": "ipython3",
   "version": "3.8.8"
  }
 },
 "nbformat": 4,
 "nbformat_minor": 5
}